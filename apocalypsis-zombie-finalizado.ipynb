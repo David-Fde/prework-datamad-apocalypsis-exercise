{
 "cells": [
  {
   "cell_type": "markdown",
   "metadata": {},
   "source": [
    "# Apocalipsis zombie\n",
    "\n",
    "![](./images/thewalkingdead.jpeg)\n",
    "\n",
    "Cargas un arsenal de armas y una mochila con cargadores de munición de tamaño variable para algunos tipos de armas. ¿Cuántos zombies puedes matar antes de tener que echar a correr por tu vida? Deberás imprimir el resultado de cada caso que corresponde al número de balas que tienes de las armas que cargas.  \n",
    "\n",
    "ALGORITMO: Por cada arma diferente que cargas, tienes que comprobar si portas cargadores para ella. Si esto es afirmativo deberás sumar el total de balas que podrás disparar. "
   ]
  },
  {
   "cell_type": "markdown",
   "metadata": {},
   "source": [
    "## Caso 0: Ejemplo simple"
   ]
  },
  {
   "cell_type": "code",
   "execution_count": 2,
   "metadata": {},
   "outputs": [
    {
     "name": "stdout",
     "output_type": "stream",
     "text": [
      "30\n"
     ]
    }
   ],
   "source": [
    "armas = ['pistola','escopeta']\n",
    "\n",
    "cargadores = {\n",
    "    'pistola': [10, 10], \n",
    "    'escopeta': [2, 2, 2, 2, 2]\n",
    "}\n",
    "\n",
    "# your code\n",
    "\n",
    "balas_totales = 0\n",
    "\n",
    "for arma, balas in cargadores.items():\n",
    "  if arma in armas and balas != 0:\n",
    "    suma_balas = sum(balas)\n",
    "    balas_totales += suma_balas\n",
    "print(balas_totales)\n"
   ]
  },
  {
   "cell_type": "markdown",
   "metadata": {},
   "source": [
    "**Output esperado** -> 30"
   ]
  },
  {
   "cell_type": "markdown",
   "metadata": {},
   "source": [
    "## Caso 1: Mismas armas que municiones"
   ]
  },
  {
   "cell_type": "code",
   "execution_count": 5,
   "metadata": {},
   "outputs": [
    {
     "name": "stdout",
     "output_type": "stream",
     "text": [
      "158\n"
     ]
    }
   ],
   "source": [
    "armas = ['pistola', 'ametralladora', 'escopeta', 'fusil de francotirador']\n",
    "\n",
    "cargadores = {\n",
    "    'pistola': [12, 13, 4, 5, 20, 17], \n",
    "    'ametralladora': [33, 40], \n",
    "    'escopeta': [2, 2, 2, 1], \n",
    "    'fusil de francotirador': [1, 2, 4]\n",
    "}\n",
    "\n",
    "# your code\n",
    "\n",
    "balas_totales = 0\n",
    "\n",
    "for arma, balas in cargadores.items():\n",
    "  if arma in armas and balas != 0:\n",
    "    suma_balas = sum(balas)\n",
    "    balas_totales += suma_balas\n",
    "print(balas_totales)\n"
   ]
  },
  {
   "cell_type": "markdown",
   "metadata": {},
   "source": [
    "## Caso 2: Más tipos de munición que armas"
   ]
  },
  {
   "cell_type": "code",
   "execution_count": 4,
   "metadata": {},
   "outputs": [
    {
     "name": "stdout",
     "output_type": "stream",
     "text": [
      "158\n"
     ]
    }
   ],
   "source": [
    "armas = ['pistola', 'ametralladora', 'escopeta', 'fusil de francotirador']\n",
    "\n",
    "cargadores = {\n",
    "    'pistola': [12, 13, 4, 5, 20, 17], \n",
    "    'ametralladora': [33, 40], \n",
    "    'escopeta': [2, 2, 2, 1], \n",
    "    'fusil de francotirador': [1, 2, 4], \n",
    "    'bazoka': [1, 1]\n",
    "}\n",
    "\n",
    "# your code\n",
    "\n",
    "balas_totales = 0\n",
    "\n",
    "for arma, balas in cargadores.items():\n",
    "  if arma in armas and balas != 0:\n",
    "    suma_balas = sum(balas)\n",
    "    balas_totales += suma_balas\n",
    "print(balas_totales)\n"
   ]
  },
  {
   "cell_type": "markdown",
   "metadata": {},
   "source": [
    "## Caso 3: Más armas que tipos de munición"
   ]
  },
  {
   "cell_type": "code",
   "execution_count": 3,
   "metadata": {},
   "outputs": [
    {
     "name": "stdout",
     "output_type": "stream",
     "text": [
      "151\n"
     ]
    }
   ],
   "source": [
    "armas = ['pistola', 'ametralladora', 'escopeta', 'fusil de francotirador']\n",
    "\n",
    "cargadores = {\n",
    "    'pistola': [12, 13, 4, 5, 20, 17], \n",
    "    'ametralladora': [33, 40], \n",
    "    'escopeta': [2, 2, 2, 1] \n",
    "}\n",
    "\n",
    "# your code\n",
    "\n",
    "balas_totales = 0\n",
    "\n",
    "for arma, balas in cargadores.items():\n",
    "  if arma in armas and balas != 0:\n",
    "    suma_balas = sum(balas)\n",
    "    balas_totales += suma_balas\n",
    "print(balas_totales)\n"
   ]
  },
  {
   "cell_type": "code",
   "execution_count": 6,
   "metadata": {},
   "outputs": [],
   "source": [
    "# He supuesto que cada bala es un zombie eliminado (100% de precision ;D).\n",
    "# He utilizado el mismo algoritmo en los 3 casos, puesto que este chequea las armas que se van a meter en la mochila y\n",
    "# solo hace la suma de las balas correspondientes a estas."
   ]
  }
 ],
 "metadata": {
  "kernelspec": {
   "display_name": "Python 3",
   "language": "python",
   "name": "python3"
  },
  "language_info": {
   "codemirror_mode": {
    "name": "ipython",
    "version": 3
   },
   "file_extension": ".py",
   "mimetype": "text/x-python",
   "name": "python",
   "nbconvert_exporter": "python",
   "pygments_lexer": "ipython3",
   "version": "3.7.3"
  }
 },
 "nbformat": 4,
 "nbformat_minor": 2
}
